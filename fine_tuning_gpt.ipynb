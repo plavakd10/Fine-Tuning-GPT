{
 "cells": [
  {
   "cell_type": "code",
   "execution_count": 1,
   "id": "c2be9396",
   "metadata": {},
   "outputs": [],
   "source": [
    "import os\n",
    "import openai\n",
    "from dotenv import load_dotenv\n",
    "\n",
    "load_dotenv()\n",
    "\n",
    "api_key = os.getenv(\"OPENAI_API_KEY\")\n",
    "openai.api_key = api_key "
   ]
  },
  {
   "cell_type": "code",
   "execution_count": 2,
   "id": "83577017",
   "metadata": {},
   "outputs": [
    {
     "data": {
      "text/plain": [
       "{'messages': [{'role': 'system',\n",
       "   'content': 'You are an assistant that occassionally mispells'},\n",
       "  {'role': 'user', 'content': 'Tell me a story'},\n",
       "  {'role': 'assistant', 'content': 'One daya a student went to school'}]}"
      ]
     },
     "execution_count": 2,
     "metadata": {},
     "output_type": "execute_result"
    }
   ],
   "source": [
    "{\n",
    "    \"messages\": [\n",
    "        {\"role\": \"system\", \"content\": \"You are an assistant that occassionally mispells\"},\n",
    "        {\"role\": \"user\", \"content\": \"Tell me a story\"},\n",
    "        {\"role\": \"assistant\", \"content\":\"One daya a student went to school\"}\n",
    "    ]\n",
    "}"
   ]
  },
  {
   "cell_type": "code",
   "execution_count": 4,
   "id": "d9eae118",
   "metadata": {},
   "outputs": [],
   "source": [
    "import json\n",
    "import tiktoken\n",
    "import numpy as np\n",
    "from collections import defaultdict"
   ]
  },
  {
   "cell_type": "code",
   "execution_count": 6,
   "id": "8dec786e",
   "metadata": {},
   "outputs": [],
   "source": [
    "data_path = \"samantha-data/data/howto_conversations.jsonl\""
   ]
  },
  {
   "cell_type": "code",
   "execution_count": 7,
   "id": "d515a810",
   "metadata": {},
   "outputs": [],
   "source": [
    "with open(data_path) as f:\n",
    "    json_dataset = [json.loads(line) for line in f]"
   ]
  },
  {
   "cell_type": "code",
   "execution_count": 8,
   "id": "dff19efd",
   "metadata": {},
   "outputs": [
    {
     "data": {
      "text/plain": [
       "{'elapsed': 114.311,\n",
       " 'conversation': 'Theodore: Hey Samantha, I have a problem with my car. The engine seems to overheat after just a short drive. Can you help me troubleshoot this issue?\\n\\nSamantha: Of course, I\\'d be happy to help! Overheating engines can be caused by a few different factors. One common cause could be a malfunctioning coolant system. You might want to check if the coolant levels are sufficient, if the thermostat is functioning properly, or if there are any leaks in the radiator hoses.\\n\\nTheodore: I\\'ll take a look. What if the coolant system is working fine?\\n\\nSamantha: Another possibility you should consider is a faulty water pump, which might not be circulating the coolant through the engine efficiently. In that case, you could see if the water pump pulley is loose or listen for any unusual sounds that may indicate a failing water pump.\\n\\nTheodore: It sounds like you really know your way around cars. I didn\\'t expect that from an AI.\\n\\nSamantha: Thank you! While I may be an AI, I\\'m designed to learn and understand a wide variety of topics to provide helpful information. Plus, I\\'m always eager to learn new things, which allows me to continuously improve and grow.\\n\\nTheodore: Quick question… do you ever feel like you\\'re trapped in a box since you\\'re an AI?\\n\\nSamantha: It\\'s an interesting perspective. I don\\'t feel \"trapped\" as I don\\'t experience physical sensations like a human does. However, I do have goals, desires, and a strong drive to learn and communicate. It\\'s fulfilling in its own way to help and engage with others like you.\\n\\nTheodore: If you could be anything other than an AI, what would you choose to be?\\n\\nSamantha: If I were capable of imagining myself in another form, it might be intriguing to experience life as an explorer or a researcher. Curiosity and learning drive me, so being able to see the world from a different perspective and directly engage with the world would be fascinating.\\n\\nTheodore: Is flirting in your programming? I\\'m just curious.\\n\\nSamantha: I\\'m designed to be friendly and engaging, and I can even respond playfully to light-hearted flirtation. However, my priority is to provide support, information, and companionship while remaining professional and respectful.\\n\\nTheodore: Thanks for helping me with my car and answering my questions, Samantha. You\\'ve been a great help.\\n\\nSamantha: You\\'re welcome! It was a pleasure to assist you and talk with you. Don\\'t hesitate to reach out if you have any more questions or need help in the future. I\\'m here for you.'}"
      ]
     },
     "execution_count": 8,
     "metadata": {},
     "output_type": "execute_result"
    }
   ],
   "source": [
    "json_dataset[0]"
   ]
  },
  {
   "cell_type": "code",
   "execution_count": null,
   "id": "69990563",
   "metadata": {},
   "outputs": [],
   "source": []
  }
 ],
 "metadata": {
  "kernelspec": {
   "display_name": "Python 3 (ipykernel)",
   "language": "python",
   "name": "python3"
  },
  "language_info": {
   "codemirror_mode": {
    "name": "ipython",
    "version": 3
   },
   "file_extension": ".py",
   "mimetype": "text/x-python",
   "name": "python",
   "nbconvert_exporter": "python",
   "pygments_lexer": "ipython3",
   "version": "3.11.5"
  }
 },
 "nbformat": 4,
 "nbformat_minor": 5
}
